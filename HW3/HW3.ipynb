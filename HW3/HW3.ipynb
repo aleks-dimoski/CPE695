{
 "cells": [
  {
   "cell_type": "code",
   "execution_count": 239,
   "id": "german-toyota",
   "metadata": {},
   "outputs": [],
   "source": [
    "## Imports ##\n",
    "import pandas as pd\n",
    "import numpy as np\n",
    "import matplotlib.pyplot as plt\n",
    "from sklearn import tree, preprocessing\n",
    "from sklearn.model_selection import KFold, train_test_split, KFold, GridSearchCV\n",
    "from sklearn.tree import DecisionTreeClassifier, export_graphviz\n",
    "from sklearn.metrics import confusion_matrix, classification_report, accuracy_score\n",
    "import pydot"
   ]
  },
  {
   "cell_type": "code",
   "execution_count": 241,
   "id": "bearing-peeing",
   "metadata": {
    "scrolled": true
   },
   "outputs": [
    {
     "name": "stdout",
     "output_type": "stream",
     "text": [
      "(1309, 4658)\n"
     ]
    },
    {
     "data": {
      "text/html": [
       "<div>\n",
       "<style scoped>\n",
       "    .dataframe tbody tr th:only-of-type {\n",
       "        vertical-align: middle;\n",
       "    }\n",
       "\n",
       "    .dataframe tbody tr th {\n",
       "        vertical-align: top;\n",
       "    }\n",
       "\n",
       "    .dataframe thead th {\n",
       "        text-align: right;\n",
       "    }\n",
       "</style>\n",
       "<table border=\"1\" class=\"dataframe\">\n",
       "  <thead>\n",
       "    <tr style=\"text-align: right;\">\n",
       "      <th></th>\n",
       "      <th>Unnamed: 0</th>\n",
       "      <th>pclass</th>\n",
       "      <th>survived</th>\n",
       "      <th>name</th>\n",
       "      <th>sex</th>\n",
       "      <th>age</th>\n",
       "      <th>sibsp</th>\n",
       "      <th>parch</th>\n",
       "      <th>ticket</th>\n",
       "      <th>fare</th>\n",
       "      <th>cabin</th>\n",
       "      <th>embarked</th>\n",
       "      <th>boat</th>\n",
       "      <th>body</th>\n",
       "      <th>home.dest</th>\n",
       "    </tr>\n",
       "  </thead>\n",
       "  <tbody>\n",
       "    <tr>\n",
       "      <th>count</th>\n",
       "      <td>1309.000000</td>\n",
       "      <td>1309.000000</td>\n",
       "      <td>1309.000000</td>\n",
       "      <td>1309.000000</td>\n",
       "      <td>1309.000000</td>\n",
       "      <td>1309.000000</td>\n",
       "      <td>1309.000000</td>\n",
       "      <td>1309.000000</td>\n",
       "      <td>1309.000000</td>\n",
       "      <td>1309.000000</td>\n",
       "      <td>1309.000000</td>\n",
       "      <td>1309.000000</td>\n",
       "      <td>1309.000000</td>\n",
       "      <td>1309.000000</td>\n",
       "      <td>1309.000000</td>\n",
       "    </tr>\n",
       "    <tr>\n",
       "      <th>mean</th>\n",
       "      <td>654.000000</td>\n",
       "      <td>1.294882</td>\n",
       "      <td>0.381971</td>\n",
       "      <td>652.689076</td>\n",
       "      <td>0.644003</td>\n",
       "      <td>55.081742</td>\n",
       "      <td>0.485103</td>\n",
       "      <td>0.381971</td>\n",
       "      <td>463.625668</td>\n",
       "      <td>122.353705</td>\n",
       "      <td>165.897632</td>\n",
       "      <td>1.495034</td>\n",
       "      <td>21.576776</td>\n",
       "      <td>115.361345</td>\n",
       "      <td>269.812834</td>\n",
       "    </tr>\n",
       "    <tr>\n",
       "      <th>std</th>\n",
       "      <td>378.020061</td>\n",
       "      <td>0.837836</td>\n",
       "      <td>0.486055</td>\n",
       "      <td>377.309849</td>\n",
       "      <td>0.478997</td>\n",
       "      <td>27.841324</td>\n",
       "      <td>0.951805</td>\n",
       "      <td>0.838219</td>\n",
       "      <td>278.069490</td>\n",
       "      <td>80.040219</td>\n",
       "      <td>44.787506</td>\n",
       "      <td>0.816130</td>\n",
       "      <td>8.485711</td>\n",
       "      <td>20.621870</td>\n",
       "      <td>115.064299</td>\n",
       "    </tr>\n",
       "    <tr>\n",
       "      <th>min</th>\n",
       "      <td>0.000000</td>\n",
       "      <td>0.000000</td>\n",
       "      <td>0.000000</td>\n",
       "      <td>0.000000</td>\n",
       "      <td>0.000000</td>\n",
       "      <td>0.000000</td>\n",
       "      <td>0.000000</td>\n",
       "      <td>0.000000</td>\n",
       "      <td>0.000000</td>\n",
       "      <td>0.000000</td>\n",
       "      <td>0.000000</td>\n",
       "      <td>0.000000</td>\n",
       "      <td>0.000000</td>\n",
       "      <td>0.000000</td>\n",
       "      <td>0.000000</td>\n",
       "    </tr>\n",
       "    <tr>\n",
       "      <th>25%</th>\n",
       "      <td>327.000000</td>\n",
       "      <td>1.000000</td>\n",
       "      <td>0.000000</td>\n",
       "      <td>326.000000</td>\n",
       "      <td>0.000000</td>\n",
       "      <td>32.000000</td>\n",
       "      <td>0.000000</td>\n",
       "      <td>0.000000</td>\n",
       "      <td>212.000000</td>\n",
       "      <td>49.000000</td>\n",
       "      <td>186.000000</td>\n",
       "      <td>1.000000</td>\n",
       "      <td>17.000000</td>\n",
       "      <td>121.000000</td>\n",
       "      <td>194.000000</td>\n",
       "    </tr>\n",
       "    <tr>\n",
       "      <th>50%</th>\n",
       "      <td>654.000000</td>\n",
       "      <td>2.000000</td>\n",
       "      <td>0.000000</td>\n",
       "      <td>652.000000</td>\n",
       "      <td>1.000000</td>\n",
       "      <td>48.000000</td>\n",
       "      <td>0.000000</td>\n",
       "      <td>0.000000</td>\n",
       "      <td>459.000000</td>\n",
       "      <td>111.000000</td>\n",
       "      <td>186.000000</td>\n",
       "      <td>2.000000</td>\n",
       "      <td>27.000000</td>\n",
       "      <td>121.000000</td>\n",
       "      <td>322.000000</td>\n",
       "    </tr>\n",
       "    <tr>\n",
       "      <th>75%</th>\n",
       "      <td>981.000000</td>\n",
       "      <td>2.000000</td>\n",
       "      <td>1.000000</td>\n",
       "      <td>979.000000</td>\n",
       "      <td>1.000000</td>\n",
       "      <td>77.000000</td>\n",
       "      <td>1.000000</td>\n",
       "      <td>0.000000</td>\n",
       "      <td>727.000000</td>\n",
       "      <td>181.000000</td>\n",
       "      <td>186.000000</td>\n",
       "      <td>2.000000</td>\n",
       "      <td>27.000000</td>\n",
       "      <td>121.000000</td>\n",
       "      <td>368.000000</td>\n",
       "    </tr>\n",
       "    <tr>\n",
       "      <th>max</th>\n",
       "      <td>1308.000000</td>\n",
       "      <td>2.000000</td>\n",
       "      <td>1.000000</td>\n",
       "      <td>1306.000000</td>\n",
       "      <td>1.000000</td>\n",
       "      <td>98.000000</td>\n",
       "      <td>6.000000</td>\n",
       "      <td>7.000000</td>\n",
       "      <td>928.000000</td>\n",
       "      <td>281.000000</td>\n",
       "      <td>186.000000</td>\n",
       "      <td>3.000000</td>\n",
       "      <td>27.000000</td>\n",
       "      <td>121.000000</td>\n",
       "      <td>368.000000</td>\n",
       "    </tr>\n",
       "  </tbody>\n",
       "</table>\n",
       "</div>"
      ],
      "text/plain": [
       "        Unnamed: 0       pclass     survived         name          sex  \\\n",
       "count  1309.000000  1309.000000  1309.000000  1309.000000  1309.000000   \n",
       "mean    654.000000     1.294882     0.381971   652.689076     0.644003   \n",
       "std     378.020061     0.837836     0.486055   377.309849     0.478997   \n",
       "min       0.000000     0.000000     0.000000     0.000000     0.000000   \n",
       "25%     327.000000     1.000000     0.000000   326.000000     0.000000   \n",
       "50%     654.000000     2.000000     0.000000   652.000000     1.000000   \n",
       "75%     981.000000     2.000000     1.000000   979.000000     1.000000   \n",
       "max    1308.000000     2.000000     1.000000  1306.000000     1.000000   \n",
       "\n",
       "               age        sibsp        parch       ticket         fare  \\\n",
       "count  1309.000000  1309.000000  1309.000000  1309.000000  1309.000000   \n",
       "mean     55.081742     0.485103     0.381971   463.625668   122.353705   \n",
       "std      27.841324     0.951805     0.838219   278.069490    80.040219   \n",
       "min       0.000000     0.000000     0.000000     0.000000     0.000000   \n",
       "25%      32.000000     0.000000     0.000000   212.000000    49.000000   \n",
       "50%      48.000000     0.000000     0.000000   459.000000   111.000000   \n",
       "75%      77.000000     1.000000     0.000000   727.000000   181.000000   \n",
       "max      98.000000     6.000000     7.000000   928.000000   281.000000   \n",
       "\n",
       "             cabin     embarked         boat         body    home.dest  \n",
       "count  1309.000000  1309.000000  1309.000000  1309.000000  1309.000000  \n",
       "mean    165.897632     1.495034    21.576776   115.361345   269.812834  \n",
       "std      44.787506     0.816130     8.485711    20.621870   115.064299  \n",
       "min       0.000000     0.000000     0.000000     0.000000     0.000000  \n",
       "25%     186.000000     1.000000    17.000000   121.000000   194.000000  \n",
       "50%     186.000000     2.000000    27.000000   121.000000   322.000000  \n",
       "75%     186.000000     2.000000    27.000000   121.000000   368.000000  \n",
       "max     186.000000     3.000000    27.000000   121.000000   368.000000  "
      ]
     },
     "execution_count": 241,
     "metadata": {},
     "output_type": "execute_result"
    }
   ],
   "source": [
    "## Step 1 ##\n",
    "df = pd.read_csv(\"Titanic.csv\")\n",
    "\n",
    "le = preprocessing.LabelEncoder()\n",
    "df = df.apply(le.fit_transform)\n",
    "\n",
    "enc = preprocessing.OneHotEncoder()\n",
    "enc.fit(df)\n",
    "onehotlabels = enc.transform(df).toarray()\n",
    "print(onehotlabels.shape)\n",
    "\n",
    "X = pd.concat([df['pclass'],df['sex'],df['age'],df['sibsp']], axis=1)\n",
    "y = df['survived']\n",
    "df.describe()"
   ]
  },
  {
   "cell_type": "code",
   "execution_count": 242,
   "id": "rural-modern",
   "metadata": {},
   "outputs": [
    {
     "name": "stdout",
     "output_type": "stream",
     "text": [
      "<class 'pandas.core.frame.DataFrame'>\n",
      "RangeIndex: 1309 entries, 0 to 1308\n",
      "Data columns (total 4 columns):\n",
      " #   Column  Non-Null Count  Dtype\n",
      "---  ------  --------------  -----\n",
      " 0   pclass  1309 non-null   int32\n",
      " 1   sex     1309 non-null   int32\n",
      " 2   age     1309 non-null   int64\n",
      " 3   sibsp   1309 non-null   int64\n",
      "dtypes: int32(2), int64(2)\n",
      "memory usage: 30.8 KB\n"
     ]
    }
   ],
   "source": [
    "X.head()\n",
    "X.info()"
   ]
  },
  {
   "cell_type": "code",
   "execution_count": 243,
   "id": "rotary-trainer",
   "metadata": {},
   "outputs": [
    {
     "name": "stdout",
     "output_type": "stream",
     "text": [
      "      pclass  sex  age  sibsp\n",
      "1136       2    0   98      0\n",
      "74         0    1   98      0\n",
      "372        1    1   44      1\n",
      "651        2    1   45      0\n",
      "446        1    0   29      2\n",
      "...      ...  ...  ...    ...\n",
      "1160       2    1   72      0\n",
      "662        2    1   60      0\n",
      "943        2    0   56      0\n",
      "578        1    1   45      1\n",
      "831        2    1   60      1\n",
      "\n",
      "[1047 rows x 4 columns]\n",
      "[Text(120.31875000000001, 199.32, 'sex <= 0.5\\ngini = 0.473\\nsamples = 1047\\nvalue = [646, 401]'), Text(41.85, 163.07999999999998, 'pclass <= 1.5\\ngini = 0.399\\nsamples = 370\\nvalue = [102, 268]'), Text(20.925, 126.83999999999999, 'gini = 0.12\\nsamples = 202\\nvalue = [13, 189]'), Text(62.775000000000006, 126.83999999999999, 'sibsp <= 2.5\\ngini = 0.498\\nsamples = 168\\nvalue = [89, 79]'), Text(41.85, 90.6, 'gini = 0.5\\nsamples = 152\\nvalue = [75, 77]'), Text(83.7, 90.6, 'gini = 0.219\\nsamples = 16\\nvalue = [14, 2]'), Text(198.7875, 163.07999999999998, 'age <= 15.5\\ngini = 0.316\\nsamples = 677\\nvalue = [544, 133]'), Text(146.475, 126.83999999999999, 'sibsp <= 2.5\\ngini = 0.486\\nsamples = 36\\nvalue = [15, 21]'), Text(125.55000000000001, 90.6, 'gini = 0.227\\nsamples = 23\\nvalue = [3, 20]'), Text(167.4, 90.6, 'gini = 0.142\\nsamples = 13\\nvalue = [12, 1]'), Text(251.10000000000002, 126.83999999999999, 'pclass <= 0.5\\ngini = 0.288\\nsamples = 641\\nvalue = [529, 112]'), Text(209.25, 90.6, 'age <= 76.5\\ngini = 0.434\\nsamples = 138\\nvalue = [94, 44]'), Text(188.32500000000002, 54.359999999999985, 'gini = 0.47\\nsamples = 90\\nvalue = [56, 34]'), Text(230.175, 54.359999999999985, 'gini = 0.33\\nsamples = 48\\nvalue = [38, 10]'), Text(292.95, 90.6, 'age <= 48.5\\ngini = 0.234\\nsamples = 503\\nvalue = [435, 68]'), Text(272.02500000000003, 54.359999999999985, 'age <= 46.5\\ngini = 0.288\\nsamples = 264\\nvalue = [218, 46]'), Text(251.10000000000002, 18.119999999999976, 'gini = 0.262\\nsamples = 239\\nvalue = [202, 37]'), Text(292.95, 18.119999999999976, 'gini = 0.461\\nsamples = 25\\nvalue = [16, 9]'), Text(313.875, 54.359999999999985, 'gini = 0.167\\nsamples = 239\\nvalue = [217, 22]')]\n"
     ]
    },
    {
     "data": {
      "image/png": "[encoded data removed]",
      "text/plain": [
       "<Figure size 432x288 with 1 Axes>"
      ]
     },
     "metadata": {
      "needs_background": "light"
     },
     "output_type": "display_data"
    }
   ],
   "source": [
    "## Step 2 ##\n",
    "X_train, X_test, y_train, y_test = train_test_split(X, y, test_size=0.20, shuffle=True)\n",
    "print(X_train)\n",
    "clf = DecisionTreeClassifier(max_leaf_nodes=10)\n",
    "clf = clf.fit(X_train, y_train)\n",
    "\n",
    "print(tree.plot_tree(clf, filled=True, feature_names=X_train.columns))"
   ]
  },
  {
   "cell_type": "code",
   "execution_count": 244,
   "id": "understood-hunter",
   "metadata": {},
   "outputs": [
    {
     "name": "stdout",
     "output_type": "stream",
     "text": [
      "Training Dataset: \n",
      "              precision    recall  f1-score   support\n",
      "\n",
      "           0       0.83      0.86      0.84       646\n",
      "           1       0.76      0.71      0.74       401\n",
      "\n",
      "    accuracy                           0.80      1047\n",
      "   macro avg       0.79      0.79      0.79      1047\n",
      "weighted avg       0.80      0.80      0.80      1047\n",
      "\n",
      "\n",
      "Test Dataset: \n",
      "              precision    recall  f1-score   support\n",
      "\n",
      "           0       0.85      0.87      0.86       163\n",
      "           1       0.78      0.75      0.76        99\n",
      "\n",
      "    accuracy                           0.82       262\n",
      "   macro avg       0.81      0.81      0.81       262\n",
      "weighted avg       0.82      0.82      0.82       262\n",
      "\n"
     ]
    }
   ],
   "source": [
    "## Step 3 ##\n",
    "print(\"Training Dataset: \")\n",
    "y_pred = clf.predict(X_train)\n",
    "print(classification_report(y_train, y_pred))\n",
    "\n",
    "print(\"\\nTest Dataset: \")\n",
    "y_pred = clf.predict(X_test)\n",
    "print(classification_report(y_test, y_pred))"
   ]
  },
  {
   "cell_type": "code",
   "execution_count": 245,
   "id": "worthy-preference",
   "metadata": {},
   "outputs": [
    {
     "data": {
      "image/png": "[encoded data removed]",
      "text/plain": [
       "<Figure size 432x288 with 1 Axes>"
      ]
     },
     "metadata": {
      "needs_background": "light"
     },
     "output_type": "display_data"
    }
   ],
   "source": [
    "## Step 4 ##\n",
    "tree_sizes = [size for size in range(2,10)]\n",
    "tree_para = {'criterion':['gini'],'max_leaf_nodes':tree_sizes}\n",
    "clf = GridSearchCV(DecisionTreeClassifier(), tree_para, cv=5)\n",
    "clf.fit(X_train, y_train)\n",
    "\n",
    "scores = clf.cv_results_['mean_test_score']\n",
    "scores = np.ones(len(tree_sizes))-scores\n",
    "scores *= len(X_test)\n",
    "\n",
    "plt.plot(tree_sizes,scores)\n",
    "plt.title('Misclassifications vs Size')\n",
    "plt.xlabel('Size')\n",
    "plt.ylabel('Misclassifications')\n",
    "plt.show()\n"
   ]
  },
  {
   "cell_type": "code",
   "execution_count": 246,
   "id": "crude-elite",
   "metadata": {},
   "outputs": [
    {
     "name": "stdout",
     "output_type": "stream",
     "text": [
      "[Text(167.4, 190.26, 'sex <= 0.5\\ngini = 0.473\\nsamples = 1047\\nvalue = [646, 401]'), Text(83.7, 135.9, 'pclass <= 1.5\\ngini = 0.399\\nsamples = 370\\nvalue = [102, 268]'), Text(41.85, 81.53999999999999, 'gini = 0.12\\nsamples = 202\\nvalue = [13, 189]'), Text(125.55000000000001, 81.53999999999999, 'gini = 0.498\\nsamples = 168\\nvalue = [89, 79]'), Text(251.10000000000002, 135.9, 'age <= 15.5\\ngini = 0.316\\nsamples = 677\\nvalue = [544, 133]'), Text(209.25, 81.53999999999999, 'sibsp <= 2.5\\ngini = 0.486\\nsamples = 36\\nvalue = [15, 21]'), Text(167.4, 27.180000000000007, 'gini = 0.227\\nsamples = 23\\nvalue = [3, 20]'), Text(251.10000000000002, 27.180000000000007, 'gini = 0.142\\nsamples = 13\\nvalue = [12, 1]'), Text(292.95, 81.53999999999999, 'gini = 0.288\\nsamples = 641\\nvalue = [529, 112]')]\n"
     ]
    },
    {
     "data": {
      "image/png": "[encoded data removed]",
      "text/plain": [
       "<Figure size 432x288 with 1 Axes>"
      ]
     },
     "metadata": {
      "needs_background": "light"
     },
     "output_type": "display_data"
    }
   ],
   "source": [
    "## Step 5 ##\n",
    "clf_best = DecisionTreeClassifier()\n",
    "clf_best.set_params(**clf.best_params_)\n",
    "clf_best.fit(X_train, y_train)\n",
    "print(tree.plot_tree(clf_best, filled=True, feature_names=X_train.columns))"
   ]
  },
  {
   "cell_type": "code",
   "execution_count": 247,
   "id": "weird-frontier",
   "metadata": {},
   "outputs": [
    {
     "name": "stdout",
     "output_type": "stream",
     "text": [
      "              precision    recall  f1-score   support\n",
      "\n",
      "           0       0.76      0.98      0.85       163\n",
      "           1       0.92      0.48      0.64        99\n",
      "\n",
      "    accuracy                           0.79       262\n",
      "   macro avg       0.84      0.73      0.74       262\n",
      "weighted avg       0.82      0.79      0.77       262\n",
      "\n"
     ]
    }
   ],
   "source": [
    "## Step 6 ##\n",
    "y_pred = clf_best.predict(X_test)\n",
    "print(classification_report(y_test, y_pred))"
   ]
  },
  {
   "cell_type": "code",
   "execution_count": null,
   "id": "statutory-development",
   "metadata": {},
   "outputs": [],
   "source": []
  },
  {
   "cell_type": "code",
   "execution_count": null,
   "id": "southern-intro",
   "metadata": {},
   "outputs": [],
   "source": []
  }
 ],
 "metadata": {
  "kernelspec": {
   "display_name": "Python 3",
   "language": "python",
   "name": "python3"
  },
  "language_info": {
   "codemirror_mode": {
    "name": "ipython",
    "version": 3
   },
   "file_extension": ".py",
   "mimetype": "text/x-python",
   "name": "python",
   "nbconvert_exporter": "python",
   "pygments_lexer": "ipython3",
   "version": "3.8.5"
  }
 },
 "nbformat": 4,
 "nbformat_minor": 5
}
