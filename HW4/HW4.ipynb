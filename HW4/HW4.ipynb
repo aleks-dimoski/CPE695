{
 "cells": [
  {
   "cell_type": "code",
   "execution_count": 17,
   "id": "expired-minority",
   "metadata": {},
   "outputs": [],
   "source": [
    "import os\n",
    "import numpy as np\n",
    "import pandas as pd\n",
    "\n",
    "from sklearn.neural_network import MLPClassifier\n",
    "from sklearn.metrics import classification_report\n",
    "from sklearn.model_selection import train_test_split"
   ]
  },
  {
   "cell_type": "code",
   "execution_count": 18,
   "id": "mental-anderson",
   "metadata": {},
   "outputs": [
    {
     "name": "stdout",
     "output_type": "stream",
     "text": [
      "   Unnamed: 0 pclass  survived                             name     sex  \\\n",
      "0           1    1st         1    Allen, Miss. Elisabeth Walton  female   \n",
      "1           2    1st         1   Allison, Master. Hudson Trevor    male   \n",
      "2           3    1st         0     Allison, Miss. Helen Loraine  female   \n",
      "3           4    1st         0  Allison, Mr. Hudson Joshua Crei    male   \n",
      "4           5    1st         0  Allison, Mrs. Hudson J C (Bessi  female   \n",
      "\n",
      "       age  sibsp  parch  ticket        fare    cabin     embarked boat  \\\n",
      "0  29.0000      0      0   24160  211.337494       B5  Southampton    2   \n",
      "1   0.9167      1      2  113781  151.550003  C22 C26  Southampton   11   \n",
      "2   2.0000      1      2  113781  151.550003  C22 C26  Southampton  NaN   \n",
      "3  30.0000      1      2  113781  151.550003  C22 C26  Southampton  NaN   \n",
      "4  25.0000      1      2  113781  151.550003  C22 C26  Southampton  NaN   \n",
      "\n",
      "    body                        home.dest  \n",
      "0    NaN                     St Louis, MO  \n",
      "1    NaN  Montreal, PQ / Chesterville, ON  \n",
      "2    NaN  Montreal, PQ / Chesterville, ON  \n",
      "3  135.0  Montreal, PQ / Chesterville, ON  \n",
      "4    NaN  Montreal, PQ / Chesterville, ON  \n"
     ]
    }
   ],
   "source": [
    "df = pd.read_csv('Titanic.csv')\n",
    "print(df.head())"
   ]
  },
  {
   "cell_type": "code",
   "execution_count": 19,
   "id": "baking-restaurant",
   "metadata": {},
   "outputs": [],
   "source": [
    "df = df.drop([\"Unnamed: 0\", \"name\", \"parch\", \"fare\", \"body\", \"embarked\", \"boat\", \"home.dest\", \"cabin\", \"ticket\"], axis=1)\n",
    "df = df.dropna()\n",
    "\n",
    "df['sex'] = df['sex'].astype('category')\n",
    "sex_categories = df['sex'].cat.categories.tolist()\n",
    "df['pclass'] = df['pclass'].astype('category')\n",
    "pclass_categories = df['pclass'].cat.categories.tolist()\n",
    "df['sex'] = df['sex'].cat.codes\n",
    "df['pclass'] = df['pclass'].cat.codes"
   ]
  },
  {
   "cell_type": "code",
   "execution_count": 20,
   "id": "stunning-edition",
   "metadata": {},
   "outputs": [],
   "source": [
    "def prepare(df, target, val_percent, test_percent, shuffle=True):\n",
    "    assert 0 < test_percent < 1.\n",
    "    num_test = round(len(df) * test_percent)\n",
    "    y = df.loc[:, df.columns == target]\n",
    "    x = df.loc[:, df.columns != target]\n",
    "    \n",
    "    x_train, x_test, y_train, y_test = train_test_split(x, y, test_size=test_percent, shuffle=shuffle)\n",
    "    \n",
    "    return x_train, y_train, x_test, y_test\n",
    "x_train, y_train, x_test, y_test = prepare(df, 'survived', 0.2, 0.2, shuffle=True)"
   ]
  },
  {
   "cell_type": "code",
   "execution_count": 50,
   "id": "heated-newark",
   "metadata": {},
   "outputs": [
    {
     "name": "stdout",
     "output_type": "stream",
     "text": [
      "   pclass  survived  sex      age  sibsp\n",
      "0       0         1    0  29.0000      0\n",
      "1       0         1    1   0.9167      1\n",
      "2       0         0    0   2.0000      1\n",
      "3       0         0    1  30.0000      1\n",
      "4       0         0    0  25.0000      1\n"
     ]
    }
   ],
   "source": [
    "clf = MLPClassifier(solver='adam', alpha=1e-5, hidden_layer_sizes=(4, 8), random_state=42, momentum=0.1)\n",
    "clf.out_activation = 'sigmoid'\n",
    "print(df.head())"
   ]
  },
  {
   "cell_type": "code",
   "execution_count": 51,
   "id": "formed-glenn",
   "metadata": {},
   "outputs": [
    {
     "name": "stderr",
     "output_type": "stream",
     "text": [
      "c:\\python38\\lib\\site-packages\\sklearn\\utils\\validation.py:63: DataConversionWarning: A column-vector y was passed when a 1d array was expected. Please change the shape of y to (n_samples, ), for example using ravel().\n",
      "  return f(*args, **kwargs)\n",
      "c:\\python38\\lib\\site-packages\\sklearn\\neural_network\\_multilayer_perceptron.py:614: ConvergenceWarning: Stochastic Optimizer: Maximum iterations (200) reached and the optimization hasn't converged yet.\n",
      "  warnings.warn(\n"
     ]
    },
    {
     "data": {
      "text/plain": [
       "MLPClassifier(alpha=1e-05, hidden_layer_sizes=(4, 8), momentum=0.1,\n",
       "              random_state=42)"
      ]
     },
     "execution_count": 51,
     "metadata": {},
     "output_type": "execute_result"
    }
   ],
   "source": [
    "clf.fit(x_train, y_train)"
   ]
  },
  {
   "cell_type": "code",
   "execution_count": 52,
   "id": "boxed-dream",
   "metadata": {},
   "outputs": [
    {
     "name": "stdout",
     "output_type": "stream",
     "text": [
      "              precision    recall  f1-score   support\n",
      "\n",
      "           0       0.84      0.81      0.82       513\n",
      "           1       0.71      0.75      0.73       323\n",
      "\n",
      "    accuracy                           0.78       836\n",
      "   macro avg       0.77      0.78      0.78       836\n",
      "weighted avg       0.79      0.78      0.79       836\n",
      "\n",
      "              precision    recall  f1-score   support\n",
      "\n",
      "           0       0.85      0.81      0.83       129\n",
      "           1       0.72      0.77      0.74        81\n",
      "\n",
      "    accuracy                           0.80       210\n",
      "   macro avg       0.78      0.79      0.79       210\n",
      "weighted avg       0.80      0.80      0.80       210\n",
      "\n"
     ]
    }
   ],
   "source": [
    "print(classification_report(clf.predict(x_train), y_train))\n",
    "print(classification_report(clf.predict(x_test), y_test))"
   ]
  },
  {
   "cell_type": "code",
   "execution_count": 54,
   "id": "small-thirty",
   "metadata": {},
   "outputs": [
    {
     "name": "stdout",
     "output_type": "stream",
     "text": [
      "   pclass  survived  sex      age  sibsp\n",
      "0       0         1    0  29.0000      0\n",
      "1       0         1    1   0.9167      1\n",
      "2       0         0    0   2.0000      1\n",
      "3       0         0    1  30.0000      1\n",
      "4       0         0    0  25.0000      1\n"
     ]
    }
   ],
   "source": [
    "clf = MLPClassifier(solver='adam', alpha=1e-5, hidden_layer_sizes=(8, 8), random_state=42, momentum=0.1)\n",
    "clf.out_activation = 'sigmoid'\n",
    "print(df.head())"
   ]
  },
  {
   "cell_type": "code",
   "execution_count": 56,
   "id": "frank-schedule",
   "metadata": {},
   "outputs": [
    {
     "name": "stderr",
     "output_type": "stream",
     "text": [
      "c:\\python38\\lib\\site-packages\\sklearn\\utils\\validation.py:63: DataConversionWarning: A column-vector y was passed when a 1d array was expected. Please change the shape of y to (n_samples, ), for example using ravel().\n",
      "  return f(*args, **kwargs)\n",
      "c:\\python38\\lib\\site-packages\\sklearn\\neural_network\\_multilayer_perceptron.py:614: ConvergenceWarning: Stochastic Optimizer: Maximum iterations (200) reached and the optimization hasn't converged yet.\n",
      "  warnings.warn(\n"
     ]
    },
    {
     "data": {
      "text/plain": [
       "MLPClassifier(alpha=1e-05, hidden_layer_sizes=(8, 8), momentum=0.1,\n",
       "              random_state=42)"
      ]
     },
     "execution_count": 56,
     "metadata": {},
     "output_type": "execute_result"
    }
   ],
   "source": [
    "clf.fit(x_train, y_train)"
   ]
  },
  {
   "cell_type": "code",
   "execution_count": 58,
   "id": "stuffed-peninsula",
   "metadata": {},
   "outputs": [
    {
     "name": "stdout",
     "output_type": "stream",
     "text": [
      "              precision    recall  f1-score   support\n",
      "\n",
      "           0       0.87      0.79      0.83       547\n",
      "           1       0.66      0.78      0.71       289\n",
      "\n",
      "    accuracy                           0.78       836\n",
      "   macro avg       0.77      0.78      0.77       836\n",
      "weighted avg       0.80      0.78      0.79       836\n",
      "\n",
      "              precision    recall  f1-score   support\n",
      "\n",
      "           0       0.85      0.80      0.82       133\n",
      "           1       0.69      0.77      0.72        77\n",
      "\n",
      "    accuracy                           0.79       210\n",
      "   macro avg       0.77      0.78      0.77       210\n",
      "weighted avg       0.79      0.79      0.79       210\n",
      "\n"
     ]
    }
   ],
   "source": [
    "print(classification_report(clf.predict(x_train), y_train))\n",
    "print(classification_report(clf.predict(x_test), y_test))"
   ]
  },
  {
   "cell_type": "markdown",
   "id": "small-robinson",
   "metadata": {},
   "source": [
    "The accuracy of this model is ~80%, which is the same as the decision tree from HW3."
   ]
  },
  {
   "cell_type": "code",
   "execution_count": null,
   "id": "scenic-calendar",
   "metadata": {},
   "outputs": [],
   "source": []
  }
 ],
 "metadata": {
  "kernelspec": {
   "display_name": "Python 3",
   "language": "python",
   "name": "python3"
  },
  "language_info": {
   "codemirror_mode": {
    "name": "ipython",
    "version": 3
   },
   "file_extension": ".py",
   "mimetype": "text/x-python",
   "name": "python",
   "nbconvert_exporter": "python",
   "pygments_lexer": "ipython3",
   "version": "3.8.5"
  }
 },
 "nbformat": 4,
 "nbformat_minor": 5
}
